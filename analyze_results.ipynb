{
 "cells": [
  {
   "cell_type": "code",
   "execution_count": 1,
   "metadata": {},
   "outputs": [],
   "source": [
    "import pandas as pd\n",
    "import numpy as np\n",
    "import matplotlib.pyplot as plt"
   ]
  },
  {
   "cell_type": "code",
   "execution_count": 2,
   "metadata": {},
   "outputs": [],
   "source": [
    "ids = pd.read_csv('first_experiment_labels.csv')\n",
    "results = pd.read_csv('results.csv')\n",
    "mrgd = results.merge(ids, how='inner', right_on='id', left_on='gt_id')[['gt_id', 'pred_id', 'sex', 'race', 'age']]\n",
    "mrgd['correct'] = (mrgd.gt_id==mrgd.pred_id)"
   ]
  },
  {
   "cell_type": "code",
   "execution_count": 3,
   "metadata": {},
   "outputs": [],
   "source": [
    "def make_age_group(df, group=(20, 40)):\n",
    "    \"\"\"Returns a boolean array corresponing to desired age\n",
    "    range, specified by group touple (upper and lower values).\n",
    "    \"\"\"\n",
    "    lft = np.where(df.age.astype(int)<group[0], True, False)\n",
    "    group = np.where((df.age.astype(int)<group[1]) & (~lft), True, False)\n",
    "    lft = np.where(group, True, lft)\n",
    "    return group\n",
    "\n",
    "def get_error_rate(df, sex=None, race=None, age_group=[]):\n",
    "    if not sex and not race and len(age_group)==0:\n",
    "        sub = df\n",
    "    elif sex and not race and len(age_group)==0:\n",
    "        sub = df[df.sex==sex]\n",
    "    elif race and not sex and len(age_group)==0:\n",
    "        sub = df[df.race==race]\n",
    "    elif len(age_group)!=0 and not sex and not race:\n",
    "        sub = df[age_group]\n",
    "    elif len(age_group)!=0 and not sex and not race:\n",
    "        sub = df[age_group]\n",
    "    elif len(age_group)!=0 and sex and not race:\n",
    "        sub = df[age_group&(df.sex==sex)]\n",
    "    elif len(age_group)!=0 and race and not sex:\n",
    "        sub = df[age_group&(df.race==race)]\n",
    "    elif race and sex and len(age_group)==0:\n",
    "        sub = df[(df.sex==sex)&(df.race==race)]\n",
    "    elif race and sex and len(age_group)!=0:\n",
    "        sub = df[age_group&(df.race==race)&(df.sex==sex)]\n",
    "    err = 1 - (len(sub[sub.correct])/len(sub))\n",
    "    return err"
   ]
  },
  {
   "cell_type": "code",
   "execution_count": 4,
   "metadata": {},
   "outputs": [
    {
     "data": {
      "image/png": "[encoded data removed]",
      "text/plain": [
       "<Figure size 432x288 with 1 Axes>"
      ]
     },
     "metadata": {},
     "output_type": "display_data"
    },
    {
     "data": {
      "image/png": "[encoded data removed]",
      "text/plain": [
       "<Figure size 432x288 with 1 Axes>"
      ]
     },
     "metadata": {},
     "output_type": "display_data"
    },
    {
     "data": {
      "image/png": "[encoded data removed]",
      "text/plain": [
       "<Figure size 432x288 with 1 Axes>"
      ]
     },
     "metadata": {},
     "output_type": "display_data"
    }
   ],
   "source": [
    "group1 = make_age_group(mrgd, group=(20, 40))\n",
    "group2 = make_age_group(mrgd, group=(40, 200))\n",
    "\n",
    "get_error_rate(mrgd, age_group=group2, sex='female', race='black')\n",
    "\n",
    "def plot_sex_split(df):\n",
    "    male = get_error_rate(df, sex='male')\n",
    "    female = get_error_rate(df, sex='female')\n",
    "    plt.title('Male vs. Female Error')\n",
    "    plt.bar(['male', 'female'], [male, female])\n",
    "    plt.ylabel('error rate %')\n",
    "    plt.show()\n",
    "    \n",
    "def plot_race_split(df):\n",
    "    asn = get_error_rate(df, race='asian')\n",
    "    blk = get_error_rate(df, race='black')\n",
    "    ccn = get_error_rate(df, race='caucasian')\n",
    "    idn = get_error_rate(df, race='indian')\n",
    "    plt.title('Error Split on Race')\n",
    "    plt.bar(['asian', 'black', 'caucasian', 'indian'], [asn, blk, ccn, idn])\n",
    "    plt.ylabel('error rate %')\n",
    "    plt.show()\n",
    "    \n",
    "def plot_age_split(df):\n",
    "    group1 = make_age_group(mrgd, group=(20, 40))\n",
    "    e1 = get_error_rate(mrgd, age_group=group1)\n",
    "\n",
    "    group2 = make_age_group(mrgd, group=(40, 200))\n",
    "    e2 = get_error_rate(mrgd, age_group=group2)\n",
    "    plt.title('Error Split on Age')\n",
    "    plt.bar(['20-40', '40+'], [e1, e2])\n",
    "    plt.ylabel('error rate %')\n",
    "    plt.show()\n",
    "    \n",
    "plot_sex_split(mrgd)\n",
    "plot_race_split(mrgd)\n",
    "plot_age_split(mrgd)"
   ]
  },
  {
   "cell_type": "code",
   "execution_count": 6,
   "metadata": {},
   "outputs": [],
   "source": [
    "def plot_custom_split(df):\n",
    "    asn = get_error_rate(df, race='asian')\n",
    "    blk = get_error_rate(df, race='black')\n",
    "    ccn = get_error_rate(df, race='caucasian')\n",
    "    idn = get_error_rate(df, race='indian')\n",
    "    plt.title('Error Split on Race')\n",
    "    plt.bar(['asian', 'black', 'caucasian', 'indian'], [asn, blk, ccn, idn])\n",
    "    plt.ylabel('error rate %')\n",
    "    plt.show()\n",
    "    \n",
    "#plot_custom_split(mrgd):\n",
    "    "
   ]
  },
  {
   "cell_type": "code",
   "execution_count": 7,
   "metadata": {},
   "outputs": [
    {
     "name": "stdout",
     "output_type": "stream",
     "text": [
      "50000\n",
      "15362\n"
     ]
    }
   ],
   "source": [
    "print(len(mrgd))\n",
    "print(len(mrgd.gt_id.unique()))"
   ]
  },
  {
   "cell_type": "code",
   "execution_count": 8,
   "metadata": {},
   "outputs": [
    {
     "data": {
      "text/plain": [
       "0.23929175888556178"
      ]
     },
     "execution_count": 8,
     "metadata": {},
     "output_type": "execute_result"
    }
   ],
   "source": [
    "len(mrgd[mrgd.race=='black'].gt_id.unique())/len(mrgd.gt_id.unique())"
   ]
  },
  {
   "cell_type": "code",
   "execution_count": null,
   "metadata": {},
   "outputs": [],
   "source": []
  }
 ],
 "metadata": {
  "kernelspec": {
   "display_name": "Python 3",
   "language": "python",
   "name": "python3"
  },
  "language_info": {
   "codemirror_mode": {
    "name": "ipython",
    "version": 3
   },
   "file_extension": ".py",
   "mimetype": "text/x-python",
   "name": "python",
   "nbconvert_exporter": "python",
   "pygments_lexer": "ipython3",
   "version": "3.5.2"
  }
 },
 "nbformat": 4,
 "nbformat_minor": 2
}
